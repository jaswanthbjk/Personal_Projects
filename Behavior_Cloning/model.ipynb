{
 "cells": [
  {
   "cell_type": "code",
   "execution_count": 2,
   "metadata": {},
   "outputs": [],
   "source": [
    "import pandas as pd\n",
    "import numpy as np\n",
    "import csv\n",
    "import random\n",
    "\n",
    "\n",
    "import keras\n",
    "from keras.models import Model,Sequential\n",
    "from keras import backend as K\n",
    "from keras.layers.core import Flatten, Dense, Lambda\n",
    "from keras.optimizers import Adam, RMSprop\n",
    "from keras.utils import np_utils\n",
    "from keras.layers import Convolution2D, ELU\n",
    "from keras.layers import Dense, Activation, Dropout, Flatten\n",
    "from keras.preprocessing.image import ImageDataGenerator\n",
    "from keras.models import model_from_json\n",
    "\n",
    "import json\n",
    "import os.path"
   ]
  },
  {
   "cell_type": "code",
   "execution_count": 17,
   "metadata": {},
   "outputs": [],
   "source": [
    "Driving_Data = pd.read_csv('F:/Udacity_SD/driving_log.csv', index_col = False)\n",
    "Driving_Data.columns = ['center', 'left', 'right', 'steering', 'throttle', 'brake', 'speed']"
   ]
  },
  {
   "cell_type": "code",
   "execution_count": 19,
   "metadata": {},
   "outputs": [],
   "source": [
    "def ImageCropping(image):\n",
    "    \n",
    "    # Function to remove the car hood on the bottom of the image and the sky part on the top of the image which are useless \n",
    "    # regressing the steering angle\n",
    "    imsize = image.shape()\n",
    "    \n",
    "    imagetop = int(imsize[0]/5)\n",
    "    imagebottom = imsize[0] - 25\n",
    "    \n",
    "    image = image[imagetop:imagebottom, 0:imsize[1]]\n",
    "    \n",
    "    #Resize to fit data to 200*66 for NVIDIA model \n",
    "    \n",
    "    col,row = 200,66\n",
    "    image = cv2.resize(image,(col,row), interpolation=cv2.INTER_AREA) \n",
    "    \n",
    "    return image\n",
    "\n",
    "def ImagePreProcessing():\n",
    "    \n",
    "    \n",
    "    \n"
   ]
  },
  {
   "cell_type": "code",
   "execution_count": 23,
   "metadata": {},
   "outputs": [
    {
     "data": {
      "text/plain": [
       "0.24217105675523287"
      ]
     },
     "execution_count": 23,
     "metadata": {},
     "output_type": "execute_result"
    }
   ],
   "source": [
    "random.random()"
   ]
  },
  {
   "cell_type": "code",
   "execution_count": null,
   "metadata": {},
   "outputs": [],
   "source": []
  },
  {
   "cell_type": "code",
   "execution_count": 8,
   "metadata": {},
   "outputs": [],
   "source": [
    "# Defining the Neural network\n",
    "\n",
    "def nvidia_model():\n",
    "    learning_rate = 0.0001\n",
    "    col,row = 200,66\n",
    "    \n",
    "    # Model structure following the NVIDIA paper\n",
    "    \n",
    "    model = Sequential()\n",
    "    \n",
    "    #Normalization\n",
    "    model.add(Lambda(lambda x:x/127.5 -1., input_shape = (row,col,3)))\n",
    "    \n",
    "    #Convolution with 24 filters and 5x5 stride and a Exponential linear unit activation\n",
    "    model.add(Convolution2D(24, 5, 5,border_mode='valid',subsample=(2,2),     init='he_normal'))\n",
    "    model.add(ELU())\n",
    "    \n",
    "    #Convolution with 36 filters and 5x5 stride and a Exponential linear unit activation\n",
    "    model.add(Convolution2D(36, 5, 5, border_mode='valid',subsample=(2,2), init='he_normal'))\n",
    "    model.add(ELU())\n",
    "    \n",
    "    #Convolution with 48 filters and 5x5 stride and a Exponential linear unit activation\n",
    "    model.add(Convolution2D(48, 5, 5, border_mode='valid',subsample=(2,2),init='he_normal'))\n",
    "    model.add(ELU())\n",
    "    \n",
    "    #Convolution with 64 filters and 3x3 stride and a Exponential linear unit activation\n",
    "    model.add(Convolution2D(64, 3, 3, border_mode='valid',subsample=(1,1),init='he_normal'))\n",
    "    model.add(ELU())\n",
    "    \n",
    "    #Convolution with 64 filters and 3x3 stride and a Exponential linear unit activation\n",
    "    model.add(Convolution2D(64, 3, 3, border_mode='valid',subsample=(1,1),init='he_normal'))\n",
    "    model.add(ELU())\n",
    "    \n",
    "    #Flattening the image to get them working for the fully connected layer to regress steering angle\n",
    "    model.add(Flatten())\n",
    "    \n",
    "    #Fully Connected layer to map all the pixels in an image\n",
    "    model.add(Dense(1164,init='he_normal'))\n",
    "    model.add(ELU())\n",
    "    model.add(Dense(100,init='he_normal'))\n",
    "    model.add(ELU())\n",
    "    model.add(Dense(50,init='he_normal'))\n",
    "    model.add(ELU())\n",
    "    model.add(Dense(10,init='he_normal'))\n",
    "    model.add(ELU())\n",
    "    model.add(Dense(1,name='output',init='he_normal'))\n",
    "    \n",
    "    optimizer = Adam(lr=learning_rate, beta_1=0.9, beta_2=0.999, epsilon=1e-08, decay=0.0)\n",
    "    model.compile(loss='mean_squared_error', optimizer=optimizer, metrics=['accuracy'])\n",
    "\n",
    "    return model"
   ]
  },
  {
   "cell_type": "code",
   "execution_count": 9,
   "metadata": {},
   "outputs": [
    {
     "name": "stderr",
     "output_type": "stream",
     "text": [
      "W0725 22:34:37.787250 14292 deprecation_wrapper.py:119] From C:\\Users\\jaswa\\Anaconda3\\lib\\site-packages\\keras\\backend\\tensorflow_backend.py:517: The name tf.placeholder is deprecated. Please use tf.compat.v1.placeholder instead.\n",
      "\n",
      "C:\\Users\\jaswa\\Anaconda3\\lib\\site-packages\\ipykernel_launcher.py:15: UserWarning: Update your `Conv2D` call to the Keras 2 API: `Conv2D(24, (5, 5), strides=(2, 2), padding=\"valid\", kernel_initializer=\"he_normal\")`\n",
      "  from ipykernel import kernelapp as app\n",
      "W0725 22:34:37.833736 14292 deprecation_wrapper.py:119] From C:\\Users\\jaswa\\Anaconda3\\lib\\site-packages\\keras\\backend\\tensorflow_backend.py:4185: The name tf.truncated_normal is deprecated. Please use tf.random.truncated_normal instead.\n",
      "\n",
      "C:\\Users\\jaswa\\Anaconda3\\lib\\site-packages\\ipykernel_launcher.py:19: UserWarning: Update your `Conv2D` call to the Keras 2 API: `Conv2D(36, (5, 5), strides=(2, 2), padding=\"valid\", kernel_initializer=\"he_normal\")`\n",
      "C:\\Users\\jaswa\\Anaconda3\\lib\\site-packages\\ipykernel_launcher.py:23: UserWarning: Update your `Conv2D` call to the Keras 2 API: `Conv2D(48, (5, 5), strides=(2, 2), padding=\"valid\", kernel_initializer=\"he_normal\")`\n",
      "C:\\Users\\jaswa\\Anaconda3\\lib\\site-packages\\ipykernel_launcher.py:27: UserWarning: Update your `Conv2D` call to the Keras 2 API: `Conv2D(64, (3, 3), strides=(1, 1), padding=\"valid\", kernel_initializer=\"he_normal\")`\n",
      "C:\\Users\\jaswa\\Anaconda3\\lib\\site-packages\\ipykernel_launcher.py:31: UserWarning: Update your `Conv2D` call to the Keras 2 API: `Conv2D(64, (3, 3), strides=(1, 1), padding=\"valid\", kernel_initializer=\"he_normal\")`\n",
      "C:\\Users\\jaswa\\Anaconda3\\lib\\site-packages\\ipykernel_launcher.py:38: UserWarning: Update your `Dense` call to the Keras 2 API: `Dense(1164, kernel_initializer=\"he_normal\")`\n",
      "C:\\Users\\jaswa\\Anaconda3\\lib\\site-packages\\ipykernel_launcher.py:40: UserWarning: Update your `Dense` call to the Keras 2 API: `Dense(100, kernel_initializer=\"he_normal\")`\n",
      "C:\\Users\\jaswa\\Anaconda3\\lib\\site-packages\\ipykernel_launcher.py:42: UserWarning: Update your `Dense` call to the Keras 2 API: `Dense(50, kernel_initializer=\"he_normal\")`\n",
      "C:\\Users\\jaswa\\Anaconda3\\lib\\site-packages\\ipykernel_launcher.py:44: UserWarning: Update your `Dense` call to the Keras 2 API: `Dense(10, kernel_initializer=\"he_normal\")`\n",
      "C:\\Users\\jaswa\\Anaconda3\\lib\\site-packages\\ipykernel_launcher.py:46: UserWarning: Update your `Dense` call to the Keras 2 API: `Dense(1, name=\"output\", kernel_initializer=\"he_normal\")`\n",
      "W0725 22:34:37.969751 14292 deprecation_wrapper.py:119] From C:\\Users\\jaswa\\Anaconda3\\lib\\site-packages\\keras\\optimizers.py:790: The name tf.train.Optimizer is deprecated. Please use tf.compat.v1.train.Optimizer instead.\n",
      "\n"
     ]
    }
   ],
   "source": [
    "model = nvidia_model()"
   ]
  },
  {
   "cell_type": "code",
   "execution_count": null,
   "metadata": {},
   "outputs": [],
   "source": []
  }
 ],
 "metadata": {
  "kernelspec": {
   "display_name": "Python 3",
   "language": "python",
   "name": "python3"
  },
  "language_info": {
   "codemirror_mode": {
    "name": "ipython",
    "version": 3
   },
   "file_extension": ".py",
   "mimetype": "text/x-python",
   "name": "python",
   "nbconvert_exporter": "python",
   "pygments_lexer": "ipython3",
   "version": "3.7.1"
  }
 },
 "nbformat": 4,
 "nbformat_minor": 2
}
